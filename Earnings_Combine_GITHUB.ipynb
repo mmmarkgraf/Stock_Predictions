{
 "cells": [
  {
   "cell_type": "code",
   "execution_count": null,
   "metadata": {},
   "outputs": [],
   "source": [
    "import pandas, json, numpy, requests, os, datetime, statistics, pytz, tweepy, sqlite3, time, re, random, matplotlib.pyplot as plt, sklearn, statsmodels.api as sm\n",
    "from bs4 import BeautifulSoup\n",
    "from scipy.signal import find_peaks"
   ]
  },
  {
   "cell_type": "markdown",
   "metadata": {},
   "source": [
    "This script is for extracting the dates from the earnings csv for each company."
   ]
  },
  {
   "cell_type": "code",
   "execution_count": null,
   "metadata": {},
   "outputs": [],
   "source": [
    "def earnings_summary(symbol, name):\n",
    "    try:\n",
    "        q1_df = pandas.read_csv(os.getcwd() + '\\\\Earnings Dates\\\\Earnings - Quarter 1 - 2016-2020.csv')\n",
    "        q2_df = pandas.read_csv(os.getcwd() + '\\\\Earnings Dates\\\\Earnings - Quarter 2 - 2016-2020.csv')\n",
    "        q3_df = pandas.read_csv(os.getcwd() + '\\\\Earnings Dates\\\\Earnings - Quarter 3 - 2016-2020.csv')\n",
    "        q4_df = pandas.read_csv(os.getcwd() + '\\\\Earnings Dates\\\\Earnings - Quarter 4 - 2016-2020.csv')\n",
    "        \n",
    "        print(symbol)\n",
    "\n",
    "        q1_df_splice = q1_df[q1_df.Symbol == symbol]\n",
    "        q2_df_splice = q2_df[q2_df.Symbol == symbol]\n",
    "        q3_df_splice = q3_df[q3_df.Symbol == symbol]\n",
    "        q4_df_splice = q4_df[q4_df.Symbol == symbol]\n",
    "\n",
    "        month_day_select = re.compile('\\d{4}-(.*)')\n",
    "\n",
    "        q_counter = 0\n",
    "\n",
    "        for t in list([q1_df_splice, q2_df_splice, q3_df_splice, q4_df_splice]): \n",
    "            date_list = list(t.Date)\n",
    "            date_list_parse = []\n",
    "\n",
    "            for q in date_list:\n",
    "                date_list_parse.append(month_day_select.search(q).group(1))\n",
    "\n",
    "            max_date = max(date_list_parse)\n",
    "            min_date = min(date_list_parse)\n",
    "\n",
    "            if q_counter == 0:\n",
    "                q1_date_range = [min_date, max_date]\n",
    "                q1_average_surprise = numpy.nanmean(t.Surprise_Percentage)\n",
    "                q_counter +=1\n",
    "\n",
    "            elif q_counter == 1:\n",
    "                q2_date_range = [min_date, max_date]\n",
    "                q2_average_surprise = numpy.nanmean(t.Surprise_Percentage)\n",
    "                q_counter +=1\n",
    "\n",
    "            elif q_counter == 2:\n",
    "                q3_date_range = [min_date, max_date]\n",
    "                q3_average_surprise = numpy.nanmean(t.Surprise_Percentage)\n",
    "                q_counter +=1\n",
    "\n",
    "            elif q_counter == 3:\n",
    "                q4_date_range = [min_date, max_date]\n",
    "                q4_average_surprise = numpy.nanmean(t.Surprise_Percentage)\n",
    "                q_counter = 0\n",
    "\n",
    "        date_range_list = [q1_date_range, q2_date_range, q3_date_range, q4_date_range]\n",
    "        average_suprise_list = [q1_average_surprise, q2_average_surprise, q3_average_surprise, q4_average_surprise]\n",
    "\n",
    "        summary_df = pandas.DataFrame({'Name': [name] * 4, 'Symbol': [symbol] * 4, 'Quarter': ['Q1', 'Q2', 'Q3', 'Q4'], 'Date_Range': date_range_list, 'Average_Surprise': average_suprise_list})\n",
    "\n",
    "        if not os.path.exists(os.getcwd() + '\\\\Earnings Summary\\\\'):\n",
    "            os.makedirs(os.getcwd() + '\\\\Earnings Summary\\\\')\n",
    "\n",
    "        summary_df.to_csv(os.getcwd() + '\\\\Earnings Summary\\\\' + symbol + ' - '+ name +' Earnings Summary - 2016-2020.csv')\n",
    "    \n",
    "    except Exception:\n",
    "        print('Error: ', symbol)\n",
    "        pass"
   ]
  },
  {
   "cell_type": "code",
   "execution_count": null,
   "metadata": {},
   "outputs": [],
   "source": [
    "### Looping:\n",
    "stocks_and_names_with_indices = pandas.read_csv('merged_NYSE_AMEX_removed_intercept_pattern.csv')\n",
    "\n",
    "for x, y in stocks_and_names_with_indices.iterrows():\n",
    "    earnings_summary(symbol= y['Symbol'], name= y['Description'])"
   ]
  },
  {
   "cell_type": "code",
   "execution_count": null,
   "metadata": {},
   "outputs": [],
   "source": []
  },
  {
   "cell_type": "code",
   "execution_count": null,
   "metadata": {},
   "outputs": [],
   "source": []
  },
  {
   "cell_type": "code",
   "execution_count": null,
   "metadata": {},
   "outputs": [],
   "source": []
  },
  {
   "cell_type": "code",
   "execution_count": null,
   "metadata": {},
   "outputs": [],
   "source": []
  },
  {
   "cell_type": "code",
   "execution_count": null,
   "metadata": {},
   "outputs": [],
   "source": []
  },
  {
   "cell_type": "code",
   "execution_count": null,
   "metadata": {},
   "outputs": [],
   "source": []
  },
  {
   "cell_type": "code",
   "execution_count": null,
   "metadata": {},
   "outputs": [],
   "source": []
  },
  {
   "cell_type": "code",
   "execution_count": null,
   "metadata": {},
   "outputs": [],
   "source": []
  },
  {
   "cell_type": "code",
   "execution_count": null,
   "metadata": {},
   "outputs": [],
   "source": []
  }
 ],
 "metadata": {
  "kernelspec": {
   "display_name": "Python 3",
   "language": "python",
   "name": "python3"
  },
  "language_info": {
   "codemirror_mode": {
    "name": "ipython",
    "version": 3
   },
   "file_extension": ".py",
   "mimetype": "text/x-python",
   "name": "python",
   "nbconvert_exporter": "python",
   "pygments_lexer": "ipython3",
   "version": "3.7.6"
  }
 },
 "nbformat": 4,
 "nbformat_minor": 4
}
