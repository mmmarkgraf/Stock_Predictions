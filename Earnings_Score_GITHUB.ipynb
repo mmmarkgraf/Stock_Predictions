{
 "cells": [
  {
   "cell_type": "code",
   "execution_count": null,
   "metadata": {},
   "outputs": [],
   "source": [
    "import pandas, json, numpy, requests, os, datetime, statistics, math, pytz, tweepy, sqlite3, time, re, random, matplotlib.pyplot as plt, sklearn, statsmodels.api as sm\n",
    "from bs4 import BeautifulSoup\n",
    "from scipy.signal import find_peaks"
   ]
  },
  {
   "cell_type": "markdown",
   "metadata": {},
   "source": [
    "This script is for determining the earnings score"
   ]
  },
  {
   "cell_type": "code",
   "execution_count": null,
   "metadata": {},
   "outputs": [],
   "source": [
    "def earnings_score(symbol, name):\n",
    "    try:\n",
    "        print(name)\n",
    "        earnings_summary_df = pandas.read_csv(os.getcwd() + '\\\\Earnings Summary\\\\' + symbol + ' - '+ name +' Earnings Summary - 2016-2020.csv')\n",
    "\n",
    "        q1_df = pandas.read_csv(os.getcwd() + '\\\\Earnings Dates\\\\Earnings - Quarter 1 - 2016-2020.csv')\n",
    "        q2_df = pandas.read_csv(os.getcwd() + '\\\\Earnings Dates\\\\Earnings - Quarter 2 - 2016-2020.csv')\n",
    "        q3_df = pandas.read_csv(os.getcwd() + '\\\\Earnings Dates\\\\Earnings - Quarter 3 - 2016-2020.csv')\n",
    "        q4_df = pandas.read_csv(os.getcwd() + '\\\\Earnings Dates\\\\Earnings - Quarter 4 - 2016-2020.csv')\n",
    "\n",
    "        overall_average_surprise = numpy.nanmean(earnings_summary_df.Average_Surprise)\n",
    "\n",
    "        combined_df = pandas.DataFrame()\n",
    "\n",
    "        for x in [q1_df, q2_df, q3_df,q4_df]:\n",
    "            temp_df = x[x.Symbol == symbol]\n",
    "\n",
    "            combined_df = pandas.concat([combined_df, temp_df])\n",
    "\n",
    "        combined_df['Surprise_Overall_Average'] = overall_average_surprise\n",
    "\n",
    "        combined_df = combined_df.reset_index()\n",
    "\n",
    "        for y in range(len(combined_df)):\n",
    "            earnings_score = 0\n",
    "\n",
    "            if combined_df.loc[y, 'EPS_Estimate'] > 0:\n",
    "                earnings_score = 500\n",
    "\n",
    "            elif combined_df.loc[y, 'EPS_Estimate'] < 0:\n",
    "                earnings_score = -500\n",
    "\n",
    "            elif math.isnan(combined_df.loc[y, 'EPS_Estimate']) == True:\n",
    "                try:\n",
    "                    if combined_df.loc[y-1, 'EPS_Estimate'] != numpy.NaN:\n",
    "                        earnings_score = combined_df.loc[y-1, 'Earnings_Score']\n",
    "                except Exception:\n",
    "                    pass\n",
    "\n",
    "            combined_df.loc[y, 'Earnings_Score'] = earnings_score\n",
    "\n",
    "\n",
    "        if not os.path.exists(os.getcwd() + '\\\\Earnings\\\\'):\n",
    "            os.makedirs(os.getcwd() + '\\\\Earnings\\\\')\n",
    "\n",
    "        combined_df.to_csv(os.getcwd() + '\\\\Earnings\\\\' + symbol + ' - '+ name +' - Earnings - 2016-2020.csv')\n",
    "        print(1)\n",
    "\n",
    "    except Exception:\n",
    "        pass\n",
    "\n",
    "    "
   ]
  },
  {
   "cell_type": "code",
   "execution_count": null,
   "metadata": {},
   "outputs": [],
   "source": [
    "### Looping:\n",
    "stocks_and_names_with_indices = pandas.read_csv('merged_NYSE_AMEX_removed_intercept_pattern.csv')\n",
    "\n",
    "for x, y in stocks_and_names_with_indices.iterrows():\n",
    "    earnings_score(symbol= y['Symbol'], name= y['Description'])"
   ]
  },
  {
   "cell_type": "code",
   "execution_count": null,
   "metadata": {},
   "outputs": [],
   "source": []
  },
  {
   "cell_type": "code",
   "execution_count": null,
   "metadata": {},
   "outputs": [],
   "source": []
  },
  {
   "cell_type": "code",
   "execution_count": null,
   "metadata": {},
   "outputs": [],
   "source": []
  }
 ],
 "metadata": {
  "kernelspec": {
   "display_name": "Python 3",
   "language": "python",
   "name": "python3"
  },
  "language_info": {
   "codemirror_mode": {
    "name": "ipython",
    "version": 3
   },
   "file_extension": ".py",
   "mimetype": "text/x-python",
   "name": "python",
   "nbconvert_exporter": "python",
   "pygments_lexer": "ipython3",
   "version": "3.7.6"
  }
 },
 "nbformat": 4,
 "nbformat_minor": 4
}
