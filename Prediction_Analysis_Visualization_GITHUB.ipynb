{
 "cells": [
  {
   "cell_type": "code",
   "execution_count": null,
   "metadata": {},
   "outputs": [],
   "source": [
    "import pandas, json, numpy, requests, os, datetime, statistics, math, pytz, tweepy, sqlite3, time, re, random, matplotlib.pyplot as plt, sklearn, statsmodels.api as sm, seaborn\n",
    "from bs4 import BeautifulSoup\n",
    "from sklearn.model_selection import train_test_split, cross_val_score\n",
    "from sklearn.ensemble import RandomForestRegressor, AdaBoostRegressor, GradientBoostingRegressor"
   ]
  },
  {
   "cell_type": "markdown",
   "metadata": {},
   "source": [
    "This script is to analyze the predictions of the models using visualizations."
   ]
  },
  {
   "cell_type": "code",
   "execution_count": null,
   "metadata": {},
   "outputs": [],
   "source": [
    "symbol = 'A'\n",
    "name = 'Agilent Technologies'\n",
    "\n",
    "prediction_analysis = pandas.read_csv(os.getcwd() + '\\\\Prediction Analysis\\\\'  + symbol + ' - ' + name + ' - Prediction Analysis.csv', index_col= 'Date', parse_dates= True).sort_index(ascending=True)"
   ]
  },
  {
   "cell_type": "code",
   "execution_count": null,
   "metadata": {},
   "outputs": [],
   "source": [
    "### Plotting the current price, label and predicted price of random forest with shuffled dataset.\n",
    "fig, ax = plt.subplots()\n",
    "ax.plot(prediction_analysis.index, prediction_analysis['Close'], 'blue', label= 'Current Price')\n",
    "ax.plot(prediction_analysis.index, prediction_analysis['Label'], 'red', label= 'Actual Next Day Price')\n",
    "ax.fill_between(prediction_analysis.index, prediction_analysis['Close'], prediction_analysis['Label'], color= 'yellow')\n",
    "ax.plot(prediction_analysis.index, prediction_analysis['Best_Random_Forest_Predict_Shuffled'], 'black', label= 'Predicted Price')\n",
    "plt.xlim(prediction_analysis.index[-375], prediction_analysis.index[-325])\n",
    "plt.ylim(60, 75)\n",
    "plt.xticks(rotation=90)\n",
    "plt.legend()\n",
    "plt.ylabel('Closing Price')\n",
    "plt.xlabel('Date')\n",
    "plt.title('Random Forest: Shuffled Dataset')\n",
    "plt.tight_layout()\n",
    "plt.savefig('A - Agilent Technologies - Price Graph - Random Forest with Shuffled Dataset.jpeg')\n",
    "plt.show()\n"
   ]
  },
  {
   "cell_type": "code",
   "execution_count": null,
   "metadata": {},
   "outputs": [],
   "source": [
    "### Plotting the current price, label and predicted price of random forest with ordered dataset.\n",
    "fig, ax = plt.subplots()\n",
    "ax.plot(prediction_analysis.index, prediction_analysis['Close'], 'blue', label= 'Current Price')\n",
    "ax.plot(prediction_analysis.index, prediction_analysis['Label'], 'red', label= 'Actual Next Day Price')\n",
    "ax.fill_between(prediction_analysis.index, prediction_analysis['Close'], prediction_analysis['Label'], color= 'yellow')\n",
    "ax.plot(prediction_analysis.index, prediction_analysis['Best_Random_Forest_Predict_Ordered'], 'black', label= 'Predicted Price')\n",
    "plt.xlim(prediction_analysis.index[-375], prediction_analysis.index[-325])\n",
    "plt.ylim(60, 75)\n",
    "plt.xticks(rotation=90)\n",
    "plt.legend()\n",
    "plt.ylabel('Closing Price')\n",
    "plt.xlabel('Date')\n",
    "plt.title('Random Forest: Ordered Dataset')\n",
    "plt.tight_layout()\n",
    "plt.savefig('A - Agilent Technologies - Price Graph - Random Forest with Ordered Dataset.jpeg')\n",
    "plt.show()\n",
    "\n"
   ]
  },
  {
   "cell_type": "code",
   "execution_count": null,
   "metadata": {},
   "outputs": [],
   "source": [
    "### Plotting the current price, label and predicted price of random forest with ordered dataset and no bootstrapping.\n",
    "fig, ax = plt.subplots()\n",
    "ax.plot(prediction_analysis.index, prediction_analysis['Close'], 'blue', label= 'Current Price')\n",
    "ax.plot(prediction_analysis.index, prediction_analysis['Label'], 'red', label= 'Actual Next Day Price')\n",
    "ax.fill_between(prediction_analysis.index, prediction_analysis['Close'], prediction_analysis['Label'], color= 'yellow')\n",
    "ax.plot(prediction_analysis.index, prediction_analysis['Best_Random_Forest_Predict_Ordered_No_Boot'], 'black', label= 'Predicted Price')\n",
    "plt.xlim(prediction_analysis.index[-375], prediction_analysis.index[-325])\n",
    "plt.ylim(60, 75)\n",
    "plt.xticks(rotation=90)\n",
    "plt.legend()\n",
    "plt.ylabel('Closing Price')\n",
    "plt.xlabel('Date')\n",
    "plt.title('Random Forest: Ordered Dataset & No Bootstrapping')\n",
    "plt.tight_layout()\n",
    "plt.savefig('A - Agilent Technologies - Price Graph - Random Forest with Ordered Dataset and No Bootstrapping.jpeg')\n",
    "plt.show()"
   ]
  },
  {
   "cell_type": "code",
   "execution_count": null,
   "metadata": {},
   "outputs": [],
   "source": [
    "### Plotting the current price, label and predicted price of AdaBoost with shuffled dataset.\n",
    "fig, ax = plt.subplots()\n",
    "ax.plot(prediction_analysis.index, prediction_analysis['Close'], 'blue', label= 'Current Price')\n",
    "ax.plot(prediction_analysis.index, prediction_analysis['Label'], 'red', label= 'Actual Next Day Price')\n",
    "ax.fill_between(prediction_analysis.index, prediction_analysis['Close'], prediction_analysis['Label'], color= 'yellow')\n",
    "ax.plot(prediction_analysis.index, prediction_analysis['Best_Ada_Predict_Shuffled'], 'black', label= 'Predicted Price')\n",
    "plt.xlim(prediction_analysis.index[-375], prediction_analysis.index[-325])\n",
    "plt.ylim(60, 75)\n",
    "plt.xticks(rotation=90)\n",
    "plt.legend()\n",
    "plt.ylabel('Closing Price')\n",
    "plt.xlabel('Date')\n",
    "plt.title('AdaBoost: Shuffled Dataset')\n",
    "plt.tight_layout()\n",
    "plt.savefig('A - Agilent Technologies - Price Graph - AdaBoost with Shuffled Dataset.jpeg')\n",
    "plt.show()"
   ]
  },
  {
   "cell_type": "code",
   "execution_count": null,
   "metadata": {},
   "outputs": [],
   "source": [
    "### Plotting the current price, label and predicted price of AdaBoost with ordered dataset.\n",
    "fig, ax = plt.subplots()\n",
    "ax.plot(prediction_analysis.index, prediction_analysis['Close'], 'blue', label= 'Current Price')\n",
    "ax.plot(prediction_analysis.index, prediction_analysis['Label'], 'red', label= 'Actual Next Day Price')\n",
    "ax.fill_between(prediction_analysis.index, prediction_analysis['Close'], prediction_analysis['Label'], color= 'yellow')\n",
    "ax.plot(prediction_analysis.index, prediction_analysis['Best_Ada_Predict_Ordered'], 'black', label= 'Predicted Price')\n",
    "plt.xlim(prediction_analysis.index[-375], prediction_analysis.index[-325])\n",
    "plt.ylim(60, 75)\n",
    "plt.xticks(rotation=90)\n",
    "plt.legend()\n",
    "plt.ylabel('Closing Price')\n",
    "plt.xlabel('Date')\n",
    "plt.title('AdaBoost: Ordered Dataset')\n",
    "plt.tight_layout()\n",
    "plt.savefig('A - Agilent Technologies - Price Graph - AdaBoost with Ordered Dataset.jpeg')\n",
    "plt.show()"
   ]
  },
  {
   "cell_type": "code",
   "execution_count": null,
   "metadata": {},
   "outputs": [],
   "source": [
    "### Plotting the current price, label and predicted price of gradient boosting with shuffled dataset.\n",
    "fig, ax = plt.subplots()\n",
    "ax.plot(prediction_analysis.index, prediction_analysis['Close'], 'blue', label= 'Current Price')\n",
    "ax.plot(prediction_analysis.index, prediction_analysis['Label'], 'red', label= 'Actual Next Day Price')\n",
    "ax.fill_between(prediction_analysis.index, prediction_analysis['Close'], prediction_analysis['Label'], color= 'yellow')\n",
    "ax.plot(prediction_analysis.index, prediction_analysis['Best_Gradient_Boosting_Predict_Shuffled'], 'black', label= 'Predicted Price')\n",
    "plt.xlim(prediction_analysis.index[-375], prediction_analysis.index[-325])\n",
    "plt.ylim(60, 75)\n",
    "plt.xticks(rotation=90)\n",
    "plt.legend()\n",
    "plt.ylabel('Closing Price')\n",
    "plt.xlabel('Date')\n",
    "plt.title('Gradient Boosting: Shuffled Dataset')\n",
    "plt.tight_layout()\n",
    "plt.savefig('A - Agilent Technologies - Price Graph - Gradient Boosting with Shuffled Dataset.jpeg')\n",
    "plt.show()"
   ]
  },
  {
   "cell_type": "code",
   "execution_count": null,
   "metadata": {},
   "outputs": [],
   "source": [
    "### Plotting the current price, label and predicted price of gradient boosting with ordered dataset.\n",
    "fig, ax = plt.subplots()\n",
    "ax.plot(prediction_analysis.index, prediction_analysis['Close'], 'blue', label= 'Current Price')\n",
    "ax.plot(prediction_analysis.index, prediction_analysis['Label'], 'red', label= 'Actual Next Day Price')\n",
    "ax.fill_between(prediction_analysis.index, prediction_analysis['Close'], prediction_analysis['Label'], color= 'yellow')\n",
    "ax.plot(prediction_analysis.index, prediction_analysis['Best_Gradient_Boosting_Predict_Ordered'], 'black', label= 'Predicted Price')\n",
    "plt.xlim(prediction_analysis.index[-375], prediction_analysis.index[-325])\n",
    "plt.ylim(60, 75)\n",
    "plt.xticks(rotation=90)\n",
    "plt.legend()\n",
    "plt.ylabel('Closing Price')\n",
    "plt.xlabel('Date')\n",
    "plt.title('Gradient Boosting: Ordered Dataset')\n",
    "plt.tight_layout()\n",
    "plt.savefig('A - Agilent Technologies - Price Graph - Gradient Boosting with Ordered Dataset.jpeg')\n",
    "plt.show()"
   ]
  },
  {
   "cell_type": "code",
   "execution_count": null,
   "metadata": {},
   "outputs": [],
   "source": []
  },
  {
   "cell_type": "code",
   "execution_count": null,
   "metadata": {},
   "outputs": [],
   "source": []
  },
  {
   "cell_type": "code",
   "execution_count": null,
   "metadata": {},
   "outputs": [],
   "source": []
  }
 ],
 "metadata": {
  "kernelspec": {
   "display_name": "Python 3",
   "language": "python",
   "name": "python3"
  },
  "language_info": {
   "codemirror_mode": {
    "name": "ipython",
    "version": 3
   },
   "file_extension": ".py",
   "mimetype": "text/x-python",
   "name": "python",
   "nbconvert_exporter": "python",
   "pygments_lexer": "ipython3",
   "version": "3.7.6"
  }
 },
 "nbformat": 4,
 "nbformat_minor": 4
}
